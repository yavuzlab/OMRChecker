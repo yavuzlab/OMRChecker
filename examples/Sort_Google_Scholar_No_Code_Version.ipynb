{
  "nbformat": 4,
  "nbformat_minor": 0,
  "metadata": {
    "colab": {
      "provenance": [],
      "include_colab_link": true
    },
    "kernelspec": {
      "name": "python3",
      "display_name": "Python 3"
    }
  },
  "cells": [
    {
      "cell_type": "markdown",
      "metadata": {
        "id": "view-in-github",
        "colab_type": "text"
      },
      "source": [
        "<a href=\"https://colab.research.google.com/github/yavuzlab/OMRChecker/blob/master/examples/Sort_Google_Scholar_No_Code_Version.ipynb\" target=\"_parent\"><img src=\"https://colab.research.google.com/assets/colab-badge.svg\" alt=\"Open In Colab\"/></a>"
      ]
    },
    {
      "cell_type": "markdown",
      "metadata": {
        "id": "M36VFanosbkb"
      },
      "source": [
        "# Sort Google Scholar - No Code Version\n",
        "\n",
        "\n",
        "## 1. Type or Paste your search query bellow (including special Google Scholar rules like AND/OR or 'exact keyword')\n",
        "For more keyword details, please refer to [this reference](https://guides.library.ucsc.edu/c.php?g=745384&p=5361954).\n",
        "\n"
      ]
    },
    {
      "cell_type": "code",
      "source": [
        "search_query = \"machine learning\" # @param {type:\"string\"}"
      ],
      "metadata": {
        "cellView": "form",
        "id": "xlpCibrIV4Nk"
      },
      "execution_count": 1,
      "outputs": []
    },
    {
      "cell_type": "markdown",
      "source": [
        "\n",
        "Some examples:\n",
        "\n",
        "- `Large Language Models` → General search\n",
        "- `\"Large Language Models\"` → Exact phrase search\n",
        "- `Large Language Models -transformer` → Exclude specific term\n",
        "- `Large Language Models author:\"Geoffrey Hinton\"` → Search by author\n",
        "- `Large Language Models source:Nature` → Search within a specific publication\n",
        "- `(\"Large Language Models\" OR \"Transformer Models\") AND (GPT OR BERT)` → Boolean search\n",
        "- `intitle:\"Large Language Models\"` → Search in the title only\n"
      ],
      "metadata": {
        "id": "fawjia86vL63"
      }
    },
    {
      "cell_type": "markdown",
      "source": [
        "### Optional Parameters"
      ],
      "metadata": {
        "id": "MnCQ9KOmYD3z"
      }
    },
    {
      "cell_type": "code",
      "source": [
        "# Expanded form with extra parameters\n",
        "sortby = \"cit/year\"  # @param [\"Citations\", \"cit/year\"] {type:\"string\"}\n",
        "nresults = 100  # @param {type:\"number\"}\n",
        "startyear = \"2015\"  # @param {type:\"string\"}\n",
        "endyear = \"2025\"  # @param {type:\"string\"}\n",
        "langfilter = None  # @param [\"None\", \"zh-CN\", \"zh-TW\", \"nl\", \"en\", \"fr\", \"de\", \"it\", \"ja\", \"ko\", \"pl\", \"pt\", \"es\", \"tr\"] {type:\"string\"}\n",
        "\n",
        "# Convert the langfilter to a list if it's not None\n",
        "if langfilter and langfilter != \"None\":\n",
        "    langfilter = [langfilter]\n",
        "else:\n",
        "    langfilter = None  # No language filter applied if \"None\" is selected\n",
        "\n",
        "# Constructing the base command\n",
        "cmd = f\"sortgs '{search_query}' --sortby '{sortby}' --nresults {nresults}\"\n",
        "\n",
        "if startyear:\n",
        "    cmd += f\" --startyear {startyear}\"\n",
        "\n",
        "if endyear:\n",
        "    cmd += f\" --endyear {endyear}\"\n",
        "\n",
        "if langfilter:\n",
        "    lang_str = ' '.join(langfilter)\n",
        "    cmd += f\" --langfilter {lang_str}\"\n",
        "\n",
        "# Output the constructed command for review\n",
        "print(\"Constructed command:\", cmd)\n"
      ],
      "metadata": {
        "cellView": "form",
        "id": "VbVaoz3wYGQY",
        "colab": {
          "base_uri": "https://localhost:8080/"
        },
        "outputId": "5fc0acd5-34f3-4193-edcd-1947b6a2dcef"
      },
      "execution_count": 2,
      "outputs": [
        {
          "output_type": "stream",
          "name": "stdout",
          "text": [
            "Constructed command: sortgs 'machine learning' --sortby 'cit/year' --nresults 100 --startyear 2015 --endyear 2025\n"
          ]
        }
      ]
    },
    {
      "cell_type": "markdown",
      "source": [
        "# 2. Next, click in Runtime > Run All"
      ],
      "metadata": {
        "id": "HOM1xu6daIGD"
      }
    },
    {
      "cell_type": "code",
      "metadata": {
        "id": "oPot8aWcsfei",
        "cellView": "form",
        "colab": {
          "base_uri": "https://localhost:8080/"
        },
        "outputId": "72e3d234-c313-46f4-9d71-526bad408ff0"
      },
      "source": [
        "# @title\n",
        "!pip install sortgs --quiet"
      ],
      "execution_count": 3,
      "outputs": [
        {
          "output_type": "stream",
          "name": "stdout",
          "text": [
            "\u001b[2K   \u001b[90m━━━━━━━━━━━━━━━━━━━━━━━━━━━━━━━━━━━━━━━━\u001b[0m \u001b[32m9.4/9.4 MB\u001b[0m \u001b[31m34.2 MB/s\u001b[0m eta \u001b[36m0:00:00\u001b[0m\n",
            "\u001b[2K   \u001b[90m━━━━━━━━━━━━━━━━━━━━━━━━━━━━━━━━━━━━━━━━\u001b[0m \u001b[32m499.2/499.2 kB\u001b[0m \u001b[31m13.0 MB/s\u001b[0m eta \u001b[36m0:00:00\u001b[0m\n",
            "\u001b[2K   \u001b[90m━━━━━━━━━━━━━━━━━━━━━━━━━━━━━━━━━━━━━━━━\u001b[0m \u001b[32m45.8/45.8 kB\u001b[0m \u001b[31m3.1 MB/s\u001b[0m eta \u001b[36m0:00:00\u001b[0m\n",
            "\u001b[?25h\u001b[31mERROR: pip's dependency resolver does not currently take into account all the packages that are installed. This behaviour is the source of the following dependency conflicts.\n",
            "typeguard 4.4.4 requires typing_extensions>=4.14.0, but you have typing-extensions 4.13.2 which is incompatible.\n",
            "torch 2.6.0+cu124 requires nvidia-cublas-cu12==12.4.5.8; platform_system == \"Linux\" and platform_machine == \"x86_64\", but you have nvidia-cublas-cu12 12.5.3.2 which is incompatible.\n",
            "torch 2.6.0+cu124 requires nvidia-cuda-cupti-cu12==12.4.127; platform_system == \"Linux\" and platform_machine == \"x86_64\", but you have nvidia-cuda-cupti-cu12 12.5.82 which is incompatible.\n",
            "torch 2.6.0+cu124 requires nvidia-cuda-nvrtc-cu12==12.4.127; platform_system == \"Linux\" and platform_machine == \"x86_64\", but you have nvidia-cuda-nvrtc-cu12 12.5.82 which is incompatible.\n",
            "torch 2.6.0+cu124 requires nvidia-cuda-runtime-cu12==12.4.127; platform_system == \"Linux\" and platform_machine == \"x86_64\", but you have nvidia-cuda-runtime-cu12 12.5.82 which is incompatible.\n",
            "torch 2.6.0+cu124 requires nvidia-cudnn-cu12==9.1.0.70; platform_system == \"Linux\" and platform_machine == \"x86_64\", but you have nvidia-cudnn-cu12 9.3.0.75 which is incompatible.\n",
            "torch 2.6.0+cu124 requires nvidia-cufft-cu12==11.2.1.3; platform_system == \"Linux\" and platform_machine == \"x86_64\", but you have nvidia-cufft-cu12 11.2.3.61 which is incompatible.\n",
            "torch 2.6.0+cu124 requires nvidia-curand-cu12==10.3.5.147; platform_system == \"Linux\" and platform_machine == \"x86_64\", but you have nvidia-curand-cu12 10.3.6.82 which is incompatible.\n",
            "torch 2.6.0+cu124 requires nvidia-cusolver-cu12==11.6.1.9; platform_system == \"Linux\" and platform_machine == \"x86_64\", but you have nvidia-cusolver-cu12 11.6.3.83 which is incompatible.\n",
            "torch 2.6.0+cu124 requires nvidia-cusparse-cu12==12.3.1.170; platform_system == \"Linux\" and platform_machine == \"x86_64\", but you have nvidia-cusparse-cu12 12.5.1.3 which is incompatible.\n",
            "torch 2.6.0+cu124 requires nvidia-nvjitlink-cu12==12.4.127; platform_system == \"Linux\" and platform_machine == \"x86_64\", but you have nvidia-nvjitlink-cu12 12.5.82 which is incompatible.\u001b[0m\u001b[31m\n",
            "\u001b[0m"
          ]
        }
      ]
    },
    {
      "cell_type": "code",
      "source": [
        "# @title\n",
        "!{cmd}"
      ],
      "metadata": {
        "colab": {
          "base_uri": "https://localhost:8080/"
        },
        "cellView": "form",
        "id": "qgfQT7i2XrPf",
        "outputId": "46ee69e3-add8-46e9-8e57-25711438fdc2"
      },
      "execution_count": null,
      "outputs": [
        {
          "output_type": "stream",
          "name": "stdout",
          "text": [
            "Running with the following parameters:\n",
            "Keyword: machine learning, Number of results: 100, Save database: True, Path: /content, Sort by: cit/year, Permitted Languages: All, Plot results: False, Start year: 2015, End year: 2025, Debug: False\n",
            "Loading next 10 results\n",
            "Robot checking detected, handling with selenium (if installed)\n",
            "Loading...\n",
            "No success. The following error was raised:\n",
            "Message: session not created: probably user data directory is already in use, please specify a unique value for --user-data-dir argument, or don't use --user-data-dir\n",
            "Stacktrace:\n",
            "#0 0x5a486ab7326a <unknown>\n",
            "#1 0x5a486a61dab0 <unknown>\n",
            "#2 0x5a486a6588ac <unknown>\n",
            "#3 0x5a486a653307 <unknown>\n",
            "#4 0x5a486a6a3696 <unknown>\n",
            "#5 0x5a486a6a2d56 <unknown>\n",
            "#6 0x5a486a694f73 <unknown>\n",
            "#7 0x5a486a661aeb <unknown>\n",
            "#8 0x5a486a662751 <unknown>\n",
            "#9 0x5a486ab37b7b <unknown>\n",
            "#10 0x5a486ab3b959 <unknown>\n",
            "#11 0x5a486ab1e959 <unknown>\n",
            "#12 0x5a486ab3c518 <unknown>\n",
            "#13 0x5a486ab0310f <unknown>\n",
            "#14 0x5a486ab60918 <unknown>\n",
            "#15 0x5a486ab60af6 <unknown>\n",
            "#16 0x5a486ab72586 <unknown>\n",
            "#17 0x7bcdfeb72ac3 <unknown>\n",
            "\n",
            "Loading next 20 results\n",
            "Robot checking detected, handling with selenium (if installed)\n",
            "Loading...\n",
            "No success. The following error was raised:\n",
            "Message: session not created: probably user data directory is already in use, please specify a unique value for --user-data-dir argument, or don't use --user-data-dir\n",
            "Stacktrace:\n",
            "#0 0x559fc008c26a <unknown>\n",
            "#1 0x559fbfb36ab0 <unknown>\n",
            "#2 0x559fbfb718ac <unknown>\n",
            "#3 0x559fbfb6c307 <unknown>\n",
            "#4 0x559fbfbbc696 <unknown>\n",
            "#5 0x559fbfbbbd56 <unknown>\n",
            "#6 0x559fbfbadf73 <unknown>\n",
            "#7 0x559fbfb7aaeb <unknown>\n",
            "#8 0x559fbfb7b751 <unknown>\n",
            "#9 0x559fc0050b7b <unknown>\n",
            "#10 0x559fc0054959 <unknown>\n",
            "#11 0x559fc0037959 <unknown>\n",
            "#12 0x559fc0055518 <unknown>\n",
            "#13 0x559fc001c10f <unknown>\n",
            "#14 0x559fc0079918 <unknown>\n",
            "#15 0x559fc0079af6 <unknown>\n",
            "#16 0x559fc008b586 <unknown>\n",
            "#17 0x7a899947bac3 <unknown>\n",
            "\n",
            "Loading next 30 results\n",
            "Robot checking detected, handling with selenium (if installed)\n",
            "Loading...\n",
            "No success. The following error was raised:\n",
            "Message: session not created: probably user data directory is already in use, please specify a unique value for --user-data-dir argument, or don't use --user-data-dir\n",
            "Stacktrace:\n",
            "#0 0x5a767f4b126a <unknown>\n",
            "#1 0x5a767ef5bab0 <unknown>\n",
            "#2 0x5a767ef968ac <unknown>\n",
            "#3 0x5a767ef91307 <unknown>\n",
            "#4 0x5a767efe1696 <unknown>\n",
            "#5 0x5a767efe0d56 <unknown>\n",
            "#6 0x5a767efd2f73 <unknown>\n",
            "#7 0x5a767ef9faeb <unknown>\n",
            "#8 0x5a767efa0751 <unknown>\n",
            "#9 0x5a767f475b7b <unknown>\n",
            "#10 0x5a767f479959 <unknown>\n",
            "#11 0x5a767f45c959 <unknown>\n",
            "#12 0x5a767f47a518 <unknown>\n",
            "#13 0x5a767f44110f <unknown>\n",
            "#14 0x5a767f49e918 <unknown>\n",
            "#15 0x5a767f49eaf6 <unknown>\n",
            "#16 0x5a767f4b0586 <unknown>\n",
            "#17 0x7a17b1126ac3 <unknown>\n",
            "\n"
          ]
        }
      ]
    },
    {
      "cell_type": "markdown",
      "metadata": {
        "id": "s_nuxpy_s_9c"
      },
      "source": [
        "> _**NOTE:** It is normal to get some warnings, for example year not found or author not found. However, if you get the robot checking warning, then it might not work anymore in the IP that you have on Google Colab. You can try going in 'Runtime' > 'Disconnect and delete runtime' to get a new IP. If the problem persists, then you will have to run locally using selenium and solve the captchas manually. Make sure to avoid running this code too often to avoid the robot checking problem._"
      ]
    },
    {
      "cell_type": "markdown",
      "metadata": {
        "id": "QQIb9oYou9GM"
      },
      "source": [
        "# 3. Download the results"
      ]
    },
    {
      "cell_type": "markdown",
      "metadata": {
        "id": "09OFwDdM2K5h"
      },
      "source": [
        "\n",
        "To download the `.csv` file, click the **folder icon** on the left to open the **Files** panel, locate the file with the same name as your search keyword, click the **three dots** next to the file, and select **Download** from the options menu.\n",
        "\n",
        "<img width=\"400\" src=\"data:image/png;base64,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\"/>\n",
        "\n"
      ]
    },
    {
      "cell_type": "markdown",
      "source": [
        "You can also visualize the top results here:"
      ],
      "metadata": {
        "id": "LsZmVT5rd7-8"
      }
    },
    {
      "cell_type": "code",
      "metadata": {
        "id": "pM_Bb4MH14eI",
        "cellView": "form"
      },
      "source": [
        "# @title\n",
        "import pandas as pd\n",
        "results = pd.read_csv(search_query.replace(' ', '_')+'.csv')\n",
        "results"
      ],
      "execution_count": null,
      "outputs": []
    },
    {
      "source": [
        "# @title Rank vs Citations\n",
        "\n",
        "import plotly.express as px\n",
        "view = results.reset_index().copy()\n",
        "\n",
        "# Function to truncate and add line breaks to long titles\n",
        "def shorten_title(title, max_length=60):\n",
        "    words = title.split()\n",
        "    shortened_lines = []\n",
        "    current_line = []\n",
        "\n",
        "    # Add words to the current line until max_length is exceeded\n",
        "    for word in words:\n",
        "        if len(' '.join(current_line + [word])) <= max_length:\n",
        "            current_line.append(word)\n",
        "        else:\n",
        "            shortened_lines.append(' '.join(current_line))\n",
        "            current_line = [word]\n",
        "\n",
        "    # Add the last line\n",
        "    if current_line:\n",
        "        shortened_lines.append(' '.join(current_line))\n",
        "\n",
        "    return '<br>'.join(shortened_lines)\n",
        "\n",
        "\n",
        "# Apply this function to the 'Title' column and create a new column for the shortened titles\n",
        "view['Short_Title'] = view['Title'].apply(shorten_title)\n",
        "\n",
        "# Now use 'Short_Title' for hover_name\n",
        "fig = px.scatter(view,\n",
        "                 x='Rank',\n",
        "                 y='Citations',\n",
        "                 title='Number of Citations vs Google Scholar Rank',\n",
        "                 hover_name='Short_Title',\n",
        "                 hover_data=['Rank', 'Author', 'Citations', 'Year', 'Publisher', 'Venue', 'cit/year']\n",
        ")\n",
        "fig.show()"
      ],
      "cell_type": "code",
      "execution_count": null,
      "outputs": [],
      "metadata": {
        "id": "GrkKI27neO8g",
        "cellView": "form"
      }
    },
    {
      "cell_type": "code",
      "source": [
        "# @title\n",
        "# Now use 'Short_Title' for hover_name\n",
        "fig = px.scatter(view,\n",
        "                 x='Rank',\n",
        "                 y='cit/year',\n",
        "                 title='Number of Citations/Year vs Google Scholar Rank',\n",
        "                 hover_name='Short_Title',\n",
        "                 hover_data=['Rank', 'Author', 'Citations', 'Year', 'Publisher', 'Venue', 'cit/year']\n",
        ")\n",
        "fig.show()"
      ],
      "metadata": {
        "id": "w5uEKLUpb7rh",
        "cellView": "form"
      },
      "execution_count": null,
      "outputs": []
    },
    {
      "cell_type": "code",
      "source": [],
      "metadata": {
        "id": "ro9NutXdhYoL"
      },
      "execution_count": null,
      "outputs": []
    },
    {
      "cell_type": "code",
      "source": [],
      "metadata": {
        "id": "oh0fK7o5b7oq"
      },
      "execution_count": null,
      "outputs": []
    },
    {
      "cell_type": "code",
      "source": [],
      "metadata": {
        "id": "_4DLe4Usb7mF"
      },
      "execution_count": null,
      "outputs": []
    }
  ]
}